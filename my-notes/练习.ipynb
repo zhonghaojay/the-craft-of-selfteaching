{
 "cells": [
  {
   "cell_type": "markdown",
   "metadata": {},
   "source": [
    "Run Python programs"
   ]
  },
  {
   "cell_type": "code",
   "execution_count": 1,
   "metadata": {},
   "outputs": [
    {
     "name": "stdout",
     "output_type": "stream",
     "text": [
      "zhonghao\n"
     ]
    }
   ],
   "source": [
    "print('zhonghao')"
   ]
  },
  {
   "cell_type": "code",
   "execution_count": 6,
   "metadata": {},
   "outputs": [
    {
     "name": "stdout",
     "output_type": "stream",
     "text": [
      "一番星歌词\\：どこまでも続（つづ）く空（そら）は知（し）ってるの？\n"
     ]
    }
   ],
   "source": [
    "print(\"一番星歌词\\：どこまでも続（つづ）く空（そら）は知（し）ってるの？\")"
   ]
  },
  {
   "cell_type": "markdown",
   "metadata": {},
   "source": [
    "Variables"
   ]
  },
  {
   "cell_type": "code",
   "execution_count": 17,
   "metadata": {},
   "outputs": [
    {
     "name": "stdout",
     "output_type": "stream",
     "text": [
      "4\n",
      "10\n",
      "6\n",
      "5\n",
      "2\n",
      "1\n"
     ]
    }
   ],
   "source": [
    "import random\n",
    "for _ in range(6):\n",
    "    print(random.randint(1,10))"
   ]
  },
  {
   "cell_type": "code",
   "execution_count": 18,
   "metadata": {},
   "outputs": [
    {
     "name": "stdout",
     "output_type": "stream",
     "text": [
      "96\n"
     ]
    }
   ],
   "source": [
    "sum=64+32\n",
    "print(sum)"
   ]
  },
  {
   "cell_type": "code",
   "execution_count": 21,
   "metadata": {},
   "outputs": [
    {
     "name": "stdout",
     "output_type": "stream",
     "text": [
      "96\n"
     ]
    }
   ],
   "source": [
    "def sum(x,y):\n",
    "    sum=x+y\n",
    "    print(sum)\n",
    "    \n",
    "sum(64,32)"
   ]
  },
  {
   "cell_type": "markdown",
   "metadata": {},
   "source": [
    "Strings"
   ]
  },
  {
   "cell_type": "code",
   "execution_count": 22,
   "metadata": {},
   "outputs": [
    {
     "name": "stdout",
     "output_type": "stream",
     "text": [
      "JayChou\n"
     ]
    }
   ],
   "source": [
    "print('JayChou')"
   ]
  },
  {
   "cell_type": "code",
   "execution_count": 23,
   "metadata": {},
   "outputs": [
    {
     "name": "stdout",
     "output_type": "stream",
     "text": [
      "lucky\n"
     ]
    }
   ],
   "source": [
    "s='lucky'\n",
    "print(s)"
   ]
  },
  {
   "cell_type": "code",
   "execution_count": 65,
   "metadata": {},
   "outputs": [
    {
     "name": "stdout",
     "output_type": "stream",
     "text": [
      "today is 26/05/2019\n"
     ]
    }
   ],
   "source": [
    "import time\n",
    "print(time.strftime(\"today is %d/%m/%Y\",time.gmtime()))"
   ]
  },
  {
   "cell_type": "markdown",
   "metadata": {},
   "source": [
    "String replace"
   ]
  },
  {
   "cell_type": "code",
   "execution_count": 51,
   "metadata": {},
   "outputs": [
    {
     "name": "stdout",
     "output_type": "stream",
     "text": [
      "hello word\n"
     ]
    }
   ],
   "source": [
    "s='hollo word'\n",
    "print(s.replace('ho','he'))"
   ]
  },
  {
   "cell_type": "code",
   "execution_count": 55,
   "metadata": {},
   "outputs": [
    {
     "name": "stdout",
     "output_type": "stream",
     "text": [
      "I would make 这个 Moscow me这个d to the work\n"
     ]
    }
   ],
   "source": [
    "s='I would make the Moscow methed to the work'\n",
    "print(s.replace('the','这个',2))"
   ]
  },
  {
   "cell_type": "markdown",
   "metadata": {},
   "source": [
    "String find"
   ]
  },
  {
   "cell_type": "code",
   "execution_count": 59,
   "metadata": {},
   "outputs": [
    {
     "name": "stdout",
     "output_type": "stream",
     "text": [
      "13\n"
     ]
    }
   ],
   "source": [
    "s='''Beautiful is better than ugly.\n",
    "Explicit is better than implicit.\n",
    "Simple is better than complex.\n",
    "Complex is better than complicated.\n",
    "Flat is better than nested.\n",
    "Sparse is better than dense.\n",
    "Readability counts.'''\n",
    "print(s.find('better'))"
   ]
  },
  {
   "cell_type": "code",
   "execution_count": 60,
   "metadata": {},
   "outputs": [
    {
     "name": "stdin",
     "output_type": "stream",
     "text": [
      "请输入你要查找的字符 is\n"
     ]
    },
    {
     "name": "stdout",
     "output_type": "stream",
     "text": [
      "10\n"
     ]
    }
   ],
   "source": [
    "s='''Beautiful is better than ugly.\n",
    "Explicit is better than implicit.\n",
    "Simple is better than complex.\n",
    "Complex is better than complicated.\n",
    "Flat is better than nested.\n",
    "Sparse is better than dense.\n",
    "Readability counts.'''\n",
    "input=input(\"请输入你要查找的字符\")\n",
    "find=s.find(input)\n",
    "print(find)\n"
   ]
  },
  {
   "cell_type": "markdown",
   "metadata": {},
   "source": [
    "String join"
   ]
  },
  {
   "cell_type": "code",
   "execution_count": 61,
   "metadata": {},
   "outputs": [
    {
     "name": "stdout",
     "output_type": "stream",
     "text": [
      "['apple', 'organge', 'banana']\n"
     ]
    }
   ],
   "source": [
    "l=['apple','organge','banana']\n",
    "print(l)"
   ]
  },
  {
   "cell_type": "code",
   "execution_count": 62,
   "metadata": {},
   "outputs": [
    {
     "name": "stdout",
     "output_type": "stream",
     "text": [
      "['apple', 'organge', 'banana']_"
     ]
    }
   ],
   "source": [
    "l=['apple','organge','banana']\n",
    "print(l,end='_')"
   ]
  },
  {
   "cell_type": "markdown",
   "metadata": {},
   "source": [
    "String split"
   ]
  },
  {
   "cell_type": "code",
   "execution_count": 63,
   "metadata": {},
   "outputs": [
    {
     "name": "stdout",
     "output_type": "stream",
     "text": [
      "['World,Earth,America,Canada']\n"
     ]
    }
   ],
   "source": [
    "s='''World,Earth,America,Canada'''\n",
    "print(s.split())\n"
   ]
  },
  {
   "cell_type": "code",
   "execution_count": 64,
   "metadata": {},
   "outputs": [
    {
     "name": "stdout",
     "output_type": "stream",
     "text": [
      "['Beautiful', 'is', 'better', 'than', 'ugly.', 'Explicit', 'is', 'better', 'than', 'implicit.', 'Simple', 'is', 'better', 'than', 'complex.', 'Complex', 'is', 'better', 'than', 'complicated.', 'Flat', 'is', 'better', 'than', 'nested.', 'Sparse', 'is', 'better', 'than', 'dense.', 'Readability', 'counts.']\n"
     ]
    }
   ],
   "source": [
    "s='''Beautiful is better than ugly.\n",
    "Explicit is better than implicit.\n",
    "Simple is better than complex.\n",
    "Complex is better than complicated.\n",
    "Flat is better than nested.\n",
    "Sparse is better than dense.\n",
    "Readability counts.'''\n",
    "print(s.split())"
   ]
  },
  {
   "cell_type": "markdown",
   "metadata": {},
   "source": [
    "Random numbers"
   ]
  },
  {
   "cell_type": "code",
   "execution_count": 10,
   "metadata": {},
   "outputs": [
    {
     "name": "stdout",
     "output_type": "stream",
     "text": [
      "1\n"
     ]
    }
   ],
   "source": [
    "import random\n",
    "x=random.randint(1,10)\n",
    "print(x)"
   ]
  },
  {
   "cell_type": "code",
   "execution_count": 9,
   "metadata": {},
   "outputs": [
    {
     "name": "stdout",
     "output_type": "stream",
     "text": [
      "3\n",
      "7\n",
      "7\n"
     ]
    }
   ],
   "source": [
    "import random\n",
    "for _ in range(3):\n",
    "    print(random.randint(1,10))\n"
   ]
  },
  {
   "cell_type": "code",
   "execution_count": 11,
   "metadata": {},
   "outputs": [
    {
     "name": "stdout",
     "output_type": "stream",
     "text": [
      "{'97的个数为1', '75的个数为1', '61的个数为2', '5的个数为1', '15的个数为2', '29的个数为3', '67的个数为3', '34的个数为1', '86的个数为3', '66的个数为1', '83的个数为2', '84的个数为2', '40的个数为2', '74的个数为1', '64的个数为1', '56的个数为1', '72的个数为2', '3的个数为2', '16的个数为2', '4的个数为2', '76的个数为2', '95的个数为2', '94的个数为2', '25的个数为4', '93的个数为2', '70的个数为1', '46的个数为1', '79的个数为2', '41的个数为2', '85的个数为2', '9的个数为2', '51的个数为2', '19的个数为2', '78的个数为2', '49的个数为4', '20的个数为2', '43的个数为1', '23的个数为1', '55的个数为2', '68的个数为1', '27的个数为1', '28的个数为3', '52的个数为1', '38的个数为1', '47的个数为1', '92的个数为1', '17的个数为1', '1的个数为1', '13的个数为1', '48的个数为1', '14的个数为3', '7的个数为1', '77的个数为3', '33的个数为1', '60的个数为3', '58的个数为2', '99的个数为2'}\n"
     ]
    }
   ],
   "source": [
    "import random\n",
    "l_list=[]\n",
    "for _ in range(101):\n",
    "    a=random.randint(1,100)\n",
    "    l_list.append(a)\n",
    "\n",
    "s_set=set()\n",
    "for num in l_list:\n",
    "    count=l_list.count(num)\n",
    "    s_set.add(f'{num}的个数为{count}')\n",
    "    \n",
    "print(s_set)\n"
   ]
  },
  {
   "cell_type": "markdown",
   "metadata": {},
   "source": [
    "Keyboard input"
   ]
  },
  {
   "cell_type": "code",
   "execution_count": 25,
   "metadata": {},
   "outputs": [
    {
     "name": "stdin",
     "output_type": "stream",
     "text": [
      "请输入你的电话号码： 112113\n"
     ]
    },
    {
     "data": {
      "text/plain": [
       "'112113'"
      ]
     },
     "execution_count": 25,
     "metadata": {},
     "output_type": "execute_result"
    }
   ],
   "source": [
    "input(\"请输入你的电话号码：\")"
   ]
  },
  {
   "cell_type": "code",
   "execution_count": 1,
   "metadata": {},
   "outputs": [
    {
     "name": "stdin",
     "output_type": "stream",
     "text": [
      "请输入你的程序语言，Python or ruby： ruby\n"
     ]
    },
    {
     "name": "stdout",
     "output_type": "stream",
     "text": [
      "你的程序语言是 ruby\n"
     ]
    }
   ],
   "source": [
    "s=input(\"请输入你的程序语言，Python or ruby：\")\n",
    "print('你的程序语言是',s)"
   ]
  },
  {
   "cell_type": "markdown",
   "metadata": {},
   "source": [
    "If statements"
   ]
  },
  {
   "cell_type": "code",
   "execution_count": 1,
   "metadata": {},
   "outputs": [
    {
     "name": "stdin",
     "output_type": "stream",
     "text": [
      "请输入1-10之间的数字： 书\n"
     ]
    },
    {
     "name": "stdout",
     "output_type": "stream",
     "text": [
      "a invalid number\n"
     ]
    }
   ],
   "source": [
    "try:\n",
    "    num=int(input(\"请输入1-10之间的数字：\"))\n",
    "    if num<=10:\n",
    "         print(num)\n",
    "    else:\n",
    "         print('invalid number')\n",
    "except ValueError:\n",
    "    print('a invalid number')\n"
   ]
  },
  {
   "cell_type": "markdown",
   "metadata": {},
   "source": [
    "For loops"
   ]
  },
  {
   "cell_type": "code",
   "execution_count": 3,
   "metadata": {},
   "outputs": [
    {
     "name": "stdout",
     "output_type": "stream",
     "text": [
      "{'USA', 'Canada', 'Australia', 'Mexico'}\n"
     ]
    }
   ],
   "source": [
    "clist = ['Canada','USA','Mexico','Australia']\n",
    "clist_set=set(clist)\n",
    "print(clist_set)"
   ]
  },
  {
   "cell_type": "markdown",
   "metadata": {},
   "source": [
    "Functions"
   ]
  },
  {
   "cell_type": "code",
   "execution_count": 9,
   "metadata": {},
   "outputs": [
    {
     "name": "stdout",
     "output_type": "stream",
     "text": [
      "15\n"
     ]
    }
   ],
   "source": [
    "mylist = [1,2,3,4,5]\n",
    "def sum():\n",
    "    sum=0\n",
    "    for i in mylist:\n",
    "        sum +=i\n",
    "    print(sum)\n",
    "\n",
    "sum()"
   ]
  },
  {
   "cell_type": "markdown",
   "metadata": {},
   "source": [
    "Lists"
   ]
  },
  {
   "cell_type": "code",
   "execution_count": null,
   "metadata": {},
   "outputs": [],
   "source": [
    "states = [ 'Alabama','Alaska','Arizona','Arkansas','California','Colorado','Connecticut','Delaware','Florida','Georgia','Hawaii','Idaho','Illinois','Indiana','Iowa','Kansas','Kentucky','Louisiana','Maine','Maryland','Massachusetts','Michigan','Minnesota','Mississippi','Missouri','Montana','Nebraska','Nevada','New Hampshire','New Jersey','New Mexico','New York','North Carolina','North Dakota','Ohio','Oklahoma','Oregon','Pennsylvania','Rhode Island','South Carolina','South Dakota','Tennessee','Texas','Utah','Vermont','Virginia','Washington','West Virginia','Wisconsin','Wyoming' ] \n",
    "\n",
    "for state in states:\n",
    "    print(state)"
   ]
  },
  {
   "cell_type": "code",
   "execution_count": 11,
   "metadata": {},
   "outputs": [
    {
     "name": "stdout",
     "output_type": "stream",
     "text": [
      "Maine\n",
      "Maryland\n",
      "Massachusetts\n",
      "Michigan\n",
      "Minnesota\n",
      "Mississippi\n",
      "Missouri\n",
      "Montana\n",
      "New Mexico\n"
     ]
    }
   ],
   "source": [
    "for state in states:\n",
    "    if 'M' in state:\n",
    "         print(state)\n",
    "   "
   ]
  },
  {
   "cell_type": "markdown",
   "metadata": {},
   "source": [
    "List operations"
   ]
  },
  {
   "cell_type": "code",
   "execution_count": 13,
   "metadata": {},
   "outputs": [
    {
     "name": "stdout",
     "output_type": "stream",
     "text": [
      "[6, 4, 2, 12, 8, 4]\n"
     ]
    }
   ],
   "source": [
    "y = [6,4,2]\n",
    "y.append(12)\n",
    "y.append(8)\n",
    "y.append(4)\n",
    "print(y)"
   ]
  },
  {
   "cell_type": "code",
   "execution_count": 14,
   "metadata": {},
   "outputs": [
    {
     "name": "stdout",
     "output_type": "stream",
     "text": [
      "[6, 3, 4, 2, 12, 8, 4]\n"
     ]
    }
   ],
   "source": [
    "y.insert(1,3)\n",
    "print(y)"
   ]
  },
  {
   "cell_type": "markdown",
   "metadata": {},
   "source": [
    "Sorting list"
   ]
  },
  {
   "cell_type": "code",
   "execution_count": 21,
   "metadata": {},
   "outputs": [
    {
     "name": "stdout",
     "output_type": "stream",
     "text": [
      "[(3, 1), (3, 6), (4, 7), (5, 9), (8, 4)]\n"
     ]
    }
   ],
   "source": [
    "x = [(3,6),(4,7),(5,9),(8,4),(3,1)]\n",
    "x.sort()\n",
    "print(x)"
   ]
  },
  {
   "cell_type": "code",
   "execution_count": 25,
   "metadata": {},
   "outputs": [
    {
     "name": "stdout",
     "output_type": "stream",
     "text": [
      "[(3, 1), (8, 4), (3, 6), (4, 7), (5, 9)]\n"
     ]
    }
   ],
   "source": [
    "from operator import itemgetter\n",
    "x = [ (3,6),(4,7),(5,9),(8,4),(3,1)]\n",
    "x.sort(key=itemgetter(1))\n",
    "print(x)"
   ]
  },
  {
   "cell_type": "code",
   "execution_count": 26,
   "metadata": {},
   "outputs": [
    {
     "name": "stdout",
     "output_type": "stream",
     "text": [
      "Help on class itemgetter in module operator:\n",
      "\n",
      "class itemgetter(builtins.object)\n",
      " |  itemgetter(item, ...) --> itemgetter object\n",
      " |  \n",
      " |  Return a callable object that fetches the given item(s) from its operand.\n",
      " |  After f = itemgetter(2), the call f(r) returns r[2].\n",
      " |  After g = itemgetter(2, 5, 3), the call g(r) returns (r[2], r[5], r[3])\n",
      " |  \n",
      " |  Methods defined here:\n",
      " |  \n",
      " |  __call__(self, /, *args, **kwargs)\n",
      " |      Call self as a function.\n",
      " |  \n",
      " |  __getattribute__(self, name, /)\n",
      " |      Return getattr(self, name).\n",
      " |  \n",
      " |  __reduce__(...)\n",
      " |      Return state information for pickling\n",
      " |  \n",
      " |  __repr__(self, /)\n",
      " |      Return repr(self).\n",
      " |  \n",
      " |  ----------------------------------------------------------------------\n",
      " |  Static methods defined here:\n",
      " |  \n",
      " |  __new__(*args, **kwargs) from builtins.type\n",
      " |      Create and return a new object.  See help(type) for accurate signature.\n",
      "\n"
     ]
    }
   ],
   "source": [
    "help(itemgetter)"
   ]
  },
  {
   "cell_type": "markdown",
   "metadata": {},
   "source": [
    "Range function"
   ]
  },
  {
   "cell_type": "code",
   "execution_count": null,
   "metadata": {},
   "outputs": [],
   "source": [
    "x=list(range(1001))\n",
    "print(x)"
   ]
  },
  {
   "cell_type": "code",
   "execution_count": 30,
   "metadata": {},
   "outputs": [
    {
     "name": "stdout",
     "output_type": "stream",
     "text": [
      "0 1000\n"
     ]
    }
   ],
   "source": [
    "x_min=min(x)\n",
    "x_max=max(x)\n",
    "print(x_min,x_max)"
   ]
  },
  {
   "cell_type": "code",
   "execution_count": null,
   "metadata": {},
   "outputs": [],
   "source": [
    "x=list(range(1001))\n",
    "even=[]\n",
    "odd=[]\n",
    "for i in x:\n",
    "    if i%2==0:\n",
    "        even.append(i)\n",
    "    else:\n",
    "        odd.append(i)\n",
    "print(even)\n",
    "print(odd)"
   ]
  },
  {
   "cell_type": "markdown",
   "metadata": {},
   "source": [
    "Dictionary"
   ]
  },
  {
   "cell_type": "code",
   "execution_count": 52,
   "metadata": {},
   "outputs": [
    {
     "name": "stdout",
     "output_type": "stream",
     "text": [
      "US = United States\n",
      "UK = United Kingdom\n",
      "AUS = Australia\n"
     ]
    }
   ],
   "source": [
    "words = {}\n",
    "words[\"US\"] = \"United States\"\n",
    "words[\"UK\"] = \"United Kingdom\"\n",
    "words[\"AUS\"] = \"Australia\"\n",
    "for key, value in words.items():\n",
    "    print(key + \" = \" + value)"
   ]
  },
  {
   "cell_type": "markdown",
   "metadata": {},
   "source": [
    "Read file"
   ]
  },
  {
   "cell_type": "code",
   "execution_count": 58,
   "metadata": {},
   "outputs": [
    {
     "name": "stdout",
     "output_type": "stream",
     "text": [
      "1 I want to be a hero\n"
     ]
    }
   ],
   "source": [
    "\n",
    "with open('xinxi.txt','r') as f:\n",
    "    lines = f.readlines()\n",
    "\n",
    "i =  1\n",
    "for line in lines:\n",
    "    print(str(i) + \" \" + line),\n",
    "    i = i + 1"
   ]
  },
  {
   "cell_type": "markdown",
   "metadata": {},
   "source": [
    "Write file"
   ]
  },
  {
   "cell_type": "code",
   "execution_count": 59,
   "metadata": {},
   "outputs": [],
   "source": [
    "with open('text.txt','w') as f:\n",
    "    f.write(\"Take it easy\")"
   ]
  },
  {
   "cell_type": "markdown",
   "metadata": {},
   "source": [
    "Nested loops"
   ]
  },
  {
   "cell_type": "code",
   "execution_count": 60,
   "metadata": {},
   "outputs": [
    {
     "name": "stdout",
     "output_type": "stream",
     "text": [
      "1,1\n",
      "1,2\n",
      "1,3\n",
      "2,1\n",
      "2,2\n",
      "2,3\n",
      "3,1\n",
      "3,2\n",
      "3,3\n"
     ]
    }
   ],
   "source": [
    "for x in range(1,4):\n",
    "    for y in range(1,4):\n",
    "        print(str(x) + \",\" + str(y))"
   ]
  },
  {
   "cell_type": "code",
   "execution_count": 63,
   "metadata": {},
   "outputs": [
    {
     "name": "stdout",
     "output_type": "stream",
     "text": [
      "John meets Marissa\n",
      "John meets Pete\n",
      "John meets Dayton\n",
      "Marissa meets John\n",
      "Marissa meets Pete\n",
      "Marissa meets Dayton\n",
      "Pete meets John\n",
      "Pete meets Marissa\n",
      "Pete meets Dayton\n",
      "Dayton meets John\n",
      "Dayton meets Marissa\n",
      "Dayton meets Pete\n"
     ]
    }
   ],
   "source": [
    "persons = [ \"John\", \"Marissa\", \"Pete\", \"Dayton\" ]\n",
    "for p1 in persons:\n",
    "    for p2 in persons:\n",
    "        if p1 != p2:\n",
    "            print(p1 + \" meets \" + p2)"
   ]
  },
  {
   "cell_type": "markdown",
   "metadata": {},
   "source": [
    "Slices"
   ]
  },
  {
   "cell_type": "code",
   "execution_count": 68,
   "metadata": {},
   "outputs": [
    {
     "name": "stdout",
     "output_type": "stream",
     "text": [
      "Fromaggi\n"
     ]
    }
   ],
   "source": [
    "pizzas = [\"Hawai\",\"Pepperoni\",\"Fromaggi\",\"Napolitana\",\"Diavoli\"]\n",
    "slice = pizzas[2]\n",
    "print(slice)\n"
   ]
  },
  {
   "cell_type": "code",
   "execution_count": 66,
   "metadata": {},
   "outputs": [
    {
     "name": "stdout",
     "output_type": "stream",
     "text": [
      "world\n"
     ]
    }
   ],
   "source": [
    "text=\"hello world\"\n",
    "print(text[6:])"
   ]
  },
  {
   "cell_type": "code",
   "execution_count": 69,
   "metadata": {},
   "outputs": [
    {
     "name": "stdout",
     "output_type": "stream",
     "text": [
      "World\n"
     ]
    }
   ],
   "source": [
    "s = \"Hello World\"\n",
    "slices = s.split(\" \")\n",
    "print(slices[1])"
   ]
  },
  {
   "cell_type": "markdown",
   "metadata": {},
   "source": [
    "Multiple return"
   ]
  },
  {
   "cell_type": "code",
   "execution_count": 73,
   "metadata": {},
   "outputs": [
    {
     "data": {
      "text/plain": [
       "3"
      ]
     },
     "execution_count": 73,
     "metadata": {},
     "output_type": "execute_result"
    }
   ],
   "source": [
    "def f(a,b):\n",
    "    return a+b\n",
    "f(1,2)"
   ]
  },
  {
   "cell_type": "markdown",
   "metadata": {},
   "source": [
    "Scope"
   ]
  },
  {
   "cell_type": "markdown",
   "metadata": {},
   "source": [
    "Time and date"
   ]
  },
  {
   "cell_type": "code",
   "execution_count": 77,
   "metadata": {},
   "outputs": [
    {
     "name": "stdout",
     "output_type": "stream",
     "text": [
      "2019-05-27\n"
     ]
    }
   ],
   "source": [
    "import time\n",
    "print(time.strftime('%Y-%m-%d',time.localtime()))"
   ]
  },
  {
   "cell_type": "code",
   "execution_count": 83,
   "metadata": {},
   "outputs": [
    {
     "name": "stdout",
     "output_type": "stream",
     "text": [
      "(2019, 5, 27, 16, 7, 38, 0, 147, 0)\n"
     ]
    }
   ],
   "source": [
    "import time\n",
    "timenow = time.localtime(time.time())\n",
    "year,month,day,hour,minute = timenow[0:5]\n",
    "print(timenow[0:10])"
   ]
  },
  {
   "cell_type": "markdown",
   "metadata": {},
   "source": [
    "Try except"
   ]
  },
  {
   "cell_type": "code",
   "execution_count": 1,
   "metadata": {},
   "outputs": [
    {
     "name": "stdin",
     "output_type": "stream",
     "text": [
      "Please enter a number:  u\n"
     ]
    },
    {
     "name": "stdout",
     "output_type": "stream",
     "text": [
      "Oops!  That was no valid number.  Try again...\n"
     ]
    }
   ],
   "source": [
    "try:\n",
    "    x = int(input(\"Please enter a number: \"))\n",
    "    if x<10:\n",
    "        print(x)\n",
    "except (SyntaxError,ValueError):\n",
    "    print(\"Oops!  That was no valid number.  Try again...\")\n",
    "    "
   ]
  },
  {
   "cell_type": "code",
   "execution_count": 4,
   "metadata": {},
   "outputs": [
    {
     "name": "stdout",
     "output_type": "stream",
     "text": [
      "未找到该文件\n"
     ]
    }
   ],
   "source": [
    "try:\n",
    "    f=open(\"heheda.txt\",'r')\n",
    "except FileNotFoundError:\n",
    "    print('未找到该文件')\n",
    "    "
   ]
  },
  {
   "cell_type": "markdown",
   "metadata": {},
   "source": [
    "OOP exercises"
   ]
  },
  {
   "cell_type": "markdown",
   "metadata": {},
   "source": [
    "Class"
   ]
  },
  {
   "cell_type": "code",
   "execution_count": 7,
   "metadata": {},
   "outputs": [
    {
     "name": "stdout",
     "output_type": "stream",
     "text": [
      "pythonbasics.org\n",
      "the web\n"
     ]
    }
   ],
   "source": [
    "class Website:\n",
    "    def __init__(self,title):\n",
    "        self.title=title\n",
    "        self.location='the web'\n",
    "        \n",
    "    def showTitle(self):\n",
    "        print(self.title)\n",
    "        \n",
    "    def showLocation(self):\n",
    "        print(self.location)\n",
    "\n",
    "obj = Website('pythonbasics.org')\n",
    "obj.showTitle()\n",
    "obj.showLocation()\n",
    "    "
   ]
  },
  {
   "cell_type": "markdown",
   "metadata": {},
   "source": [
    "A getter and setter"
   ]
  },
  {
   "cell_type": "markdown",
   "metadata": {},
   "source": [
    "A getter and setter help you to create clean code. By calling the methods instead of changing variables, you can prevent accidentally changing the variable to a number you do not want.  Say you have a class Human with a variable age, in the setter you could prevent the variable from being set to negative numbers of numbers higher than 150 using an if statement."
   ]
  },
  {
   "cell_type": "markdown",
   "metadata": {},
   "source": [
    "Modules"
   ]
  },
  {
   "cell_type": "code",
   "execution_count": 8,
   "metadata": {},
   "outputs": [
    {
     "name": "stdout",
     "output_type": "stream",
     "text": [
      "0.8509035245341184\n"
     ]
    }
   ],
   "source": [
    "import math\n",
    "print(math.sin(45))"
   ]
  },
  {
   "cell_type": "markdown",
   "metadata": {},
   "source": [
    "Inheritance"
   ]
  },
  {
   "cell_type": "code",
   "execution_count": 11,
   "metadata": {},
   "outputs": [],
   "source": [
    "class iPhone:\n",
    "    def getVersion(self):\n",
    "        print('iPhone version')"
   ]
  },
  {
   "cell_type": "code",
   "execution_count": 13,
   "metadata": {},
   "outputs": [
    {
     "name": "stdout",
     "output_type": "stream",
     "text": [
      "starting\n",
      "go\n"
     ]
    }
   ],
   "source": [
    "class A:\n",
    "    def start(self):\n",
    "        print('starting')\n",
    "\n",
    "class B:\n",
    "    def go(self):\n",
    "        print('go')\n",
    "\n",
    "class C(A,B):\n",
    "    def getVersion(self):\n",
    "        print('Multiple inheritance class')\n",
    "\n",
    "app = C()\n",
    "app.start()\n",
    "app.go()"
   ]
  },
  {
   "cell_type": "markdown",
   "metadata": {},
   "source": [
    "Classmethod"
   ]
  },
  {
   "cell_type": "markdown",
   "metadata": {},
   "source": [
    "Can a method inside a class be called without creating an object?\n",
    "Why does not everybody like static methods?\n",
    "\n",
    "Yes, such a method is a static method\n",
    "Because static methods go against the paradigm of object orientation. The general consensus is that objects are created from classes. The objects methods are defined in the class. If you create a static method, that method is accessible without creating an object."
   ]
  },
  {
   "cell_type": "markdown",
   "metadata": {},
   "source": [
    "What is an iterable?\n",
    "Which types of data can be used with an iterable?\n",
    "\n",
    "an object that can be used as a sequence\n",
    "lists, strings, dictionaries and sets"
   ]
  },
  {
   "cell_type": "markdown",
   "metadata": {},
   "source": [
    "What is a classmethod?\n",
    "How does a classmethod differ from a staticmethod?\n",
    "\n",
    "a method that’s accessible by all objects and the class\n",
    "a static method doesn’t have access to the class"
   ]
  },
  {
   "cell_type": "code",
   "execution_count": null,
   "metadata": {},
   "outputs": [],
   "source": []
  }
 ],
 "metadata": {
  "kernelspec": {
   "display_name": "Python 3",
   "language": "python",
   "name": "python3"
  },
  "language_info": {
   "codemirror_mode": {
    "name": "ipython",
    "version": 3
   },
   "file_extension": ".py",
   "mimetype": "text/x-python",
   "name": "python",
   "nbconvert_exporter": "python",
   "pygments_lexer": "ipython3",
   "version": "3.7.3"
  }
 },
 "nbformat": 4,
 "nbformat_minor": 2
}
