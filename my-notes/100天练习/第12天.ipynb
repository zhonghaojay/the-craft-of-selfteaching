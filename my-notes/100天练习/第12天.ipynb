{
 "cells": [
  {
   "cell_type": "markdown",
   "metadata": {},
   "source": [
    "正则"
   ]
  },
  {
   "cell_type": "code",
   "execution_count": 26,
   "metadata": {},
   "outputs": [
    {
     "name": "stdout",
     "output_type": "stream",
     "text": [
      "['13512346789', '15600998765', '15600998765']\n",
      "--------华丽的分隔线--------\n",
      "13512346789\n",
      "15600998765\n",
      "15600998765\n",
      "--------华丽的分隔线--------\n",
      "13512346789\n",
      "15600998765\n",
      "15600998765\n",
      "--------华丽的分隔线--------\n",
      "13512346789\n",
      "15600998765\n",
      "15600998765\n"
     ]
    }
   ],
   "source": [
    "import re\n",
    "\n",
    "    # 创建正则表达式对象 使用了前瞻和回顾来保证手机号前后不应该出现数字\n",
    "pattern = re.compile(r'(?<=\\D)1[34578]\\d{9}(?=\\D)')\n",
    "sentence = '''\n",
    "重要的事情说8130123456789遍，我的手机号是13512346789这个靓号，\n",
    "不是15600998765，也是110或119，王大锤的手机号才是15600998765。\n",
    "'''\n",
    "# 查找所有匹配并保存到一个列表中\n",
    "mylist = re.findall(pattern, sentence)\n",
    "print(mylist)\n",
    "print('--------华丽的分隔线--------')\n",
    "for temp in pattern.finditer(sentence):\n",
    "        print(temp.group())\n",
    "print('--------华丽的分隔线--------')\n",
    "# 通过search函数指定搜索位置找出所有匹配\n",
    "m = pattern.search(sentence)\n",
    "while m:\n",
    "    print(m.group())\n",
    "    m = pattern.search(sentence, m.end())\n",
    "\n",
    "print('--------华丽的分隔线--------')\n",
    "for num in mylist:\n",
    "    print(num)"
   ]
  },
  {
   "cell_type": "code",
   "execution_count": 25,
   "metadata": {},
   "outputs": [
    {
     "name": "stdout",
     "output_type": "stream",
     "text": [
      "Help on built-in function search:\n",
      "\n",
      "search(string, pos=0, endpos=9223372036854775807) method of re.Pattern instance\n",
      "    Scan through string looking for a match, and return a corresponding match object instance.\n",
      "    \n",
      "    Return None if no position in the string matches.\n",
      "\n"
     ]
    }
   ],
   "source": [
    "import re\n",
    "help(pattern.search)"
   ]
  },
  {
   "cell_type": "code",
   "execution_count": 29,
   "metadata": {},
   "outputs": [
    {
     "ename": "KeyError",
     "evalue": "'newslist'",
     "output_type": "error",
     "traceback": [
      "\u001b[1;31m---------------------------------------------------------------------------\u001b[0m",
      "\u001b[1;31mKeyError\u001b[0m                                  Traceback (most recent call last)",
      "\u001b[1;32m<ipython-input-29-1fb7234eb3b8>\u001b[0m in \u001b[0;36m<module>\u001b[1;34m\u001b[0m\n\u001b[0;32m     33\u001b[0m         \u001b[0mDownloadHanlder\u001b[0m\u001b[1;33m(\u001b[0m\u001b[0murl\u001b[0m\u001b[1;33m)\u001b[0m\u001b[1;33m.\u001b[0m\u001b[0mstart\u001b[0m\u001b[1;33m(\u001b[0m\u001b[1;33m)\u001b[0m\u001b[1;33m\u001b[0m\u001b[1;33m\u001b[0m\u001b[0m\n\u001b[0;32m     34\u001b[0m \u001b[1;33m\u001b[0m\u001b[0m\n\u001b[1;32m---> 35\u001b[1;33m \u001b[0mstart_run\u001b[0m\u001b[1;33m(\u001b[0m\u001b[1;33m)\u001b[0m\u001b[1;33m\u001b[0m\u001b[1;33m\u001b[0m\u001b[0m\n\u001b[0m",
      "\u001b[1;32m<ipython-input-29-1fb7234eb3b8>\u001b[0m in \u001b[0;36mstart_run\u001b[1;34m()\u001b[0m\n\u001b[0;32m     28\u001b[0m     \u001b[1;31m# 将服务器返回的JSON格式的数据解析为字典\u001b[0m\u001b[1;33m\u001b[0m\u001b[1;33m\u001b[0m\u001b[1;33m\u001b[0m\u001b[0m\n\u001b[0;32m     29\u001b[0m     \u001b[0mdata_model\u001b[0m \u001b[1;33m=\u001b[0m \u001b[0mresp\u001b[0m\u001b[1;33m.\u001b[0m\u001b[0mjson\u001b[0m\u001b[1;33m(\u001b[0m\u001b[1;33m)\u001b[0m\u001b[1;33m\u001b[0m\u001b[1;33m\u001b[0m\u001b[0m\n\u001b[1;32m---> 30\u001b[1;33m     \u001b[1;32mfor\u001b[0m \u001b[0mmm_dict\u001b[0m \u001b[1;32min\u001b[0m \u001b[0mdata_model\u001b[0m\u001b[1;33m[\u001b[0m\u001b[1;34m'newslist'\u001b[0m\u001b[1;33m]\u001b[0m\u001b[1;33m:\u001b[0m\u001b[1;33m\u001b[0m\u001b[1;33m\u001b[0m\u001b[0m\n\u001b[0m\u001b[0;32m     31\u001b[0m         \u001b[0murl\u001b[0m \u001b[1;33m=\u001b[0m \u001b[0mmm_dict\u001b[0m\u001b[1;33m[\u001b[0m\u001b[1;34m'picUrl'\u001b[0m\u001b[1;33m]\u001b[0m\u001b[1;33m\u001b[0m\u001b[1;33m\u001b[0m\u001b[0m\n\u001b[0;32m     32\u001b[0m         \u001b[1;31m# 通过多线程的方式实现图片下载\u001b[0m\u001b[1;33m\u001b[0m\u001b[1;33m\u001b[0m\u001b[1;33m\u001b[0m\u001b[0m\n",
      "\u001b[1;31mKeyError\u001b[0m: 'newslist'"
     ]
    }
   ],
   "source": [
    "from time import time\n",
    "from threading import Thread\n",
    "\n",
    "import requests\n",
    "\n",
    "\n",
    "# 继承Thread类创建自定义的线程类\n",
    "class DownloadHanlder(Thread):\n",
    "\n",
    "    def __init__(self, url):\n",
    "        super().__init__()\n",
    "        self.url = url\n",
    "\n",
    "    def run(self):\n",
    "        filename = self.url[self.url.rfind('/') + 1:]\n",
    "        resp = requests.get(self.url)\n",
    "        with open('/Users/Hao/' + filename, 'wb') as f:\n",
    "            f.write(resp.content)\n",
    "\n",
    "\n",
    "def start_run():\n",
    "    # 通过requests模块的get函数获取网络资源\n",
    "    # 下面的代码中使用了天行数据接口提供的网络API\n",
    "    # 要使用该数据接口需要在天行数据的网站上注册\n",
    "    # 然后用自己的Key替换掉下面代码的中APIKey即可\n",
    "    resp = requests.get(\n",
    "        'http://api.tianapi.com/meinv/?key=APIKey&num=10')\n",
    "    # 将服务器返回的JSON格式的数据解析为字典\n",
    "    data_model = resp.json()\n",
    "    for mm_dict in data_model['newslist']:\n",
    "        url = mm_dict['picUrl']\n",
    "        # 通过多线程的方式实现图片下载\n",
    "        DownloadHanlder(url).start()\n",
    "\n",
    "start_run()"
   ]
  },
  {
   "cell_type": "code",
   "execution_count": null,
   "metadata": {},
   "outputs": [],
   "source": []
  }
 ],
 "metadata": {
  "kernelspec": {
   "display_name": "Python 3",
   "language": "python",
   "name": "python3"
  },
  "language_info": {
   "codemirror_mode": {
    "name": "ipython",
    "version": 3
   },
   "file_extension": ".py",
   "mimetype": "text/x-python",
   "name": "python",
   "nbconvert_exporter": "python",
   "pygments_lexer": "ipython3",
   "version": "3.7.3"
  }
 },
 "nbformat": 4,
 "nbformat_minor": 2
}
