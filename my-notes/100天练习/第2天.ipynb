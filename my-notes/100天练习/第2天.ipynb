{
 "cells": [
  {
   "cell_type": "code",
   "execution_count": 3,
   "metadata": {},
   "outputs": [
    {
     "name": "stdin",
     "output_type": "stream",
     "text": [
      "请输入华氏温度:  56\n"
     ]
    },
    {
     "name": "stdout",
     "output_type": "stream",
     "text": [
      "56.0华氏度 = 13.333333333333332摄氏度\n"
     ]
    }
   ],
   "source": [
    "\"\"\"\n",
    "将华氏温度转换为摄氏温度\n",
    "F = 1.8C + 32\n",
    "\n",
    "Version: 0.1\n",
    "Author: 骆昊\n",
    "\"\"\"\n",
    "\n",
    "f = float(input('请输入华氏温度: '))\n",
    "c = (f - 32) / 1.8\n",
    "print('%.1f华氏度 = %.1f摄氏度' % (f, c)) #可改为 print(f'{f}华氏度 = {c}摄氏度')"
   ]
  },
  {
   "cell_type": "code",
   "execution_count": 2,
   "metadata": {},
   "outputs": [
    {
     "name": "stdin",
     "output_type": "stream",
     "text": [
      "请输入圆的半径:  6\n"
     ]
    },
    {
     "name": "stdout",
     "output_type": "stream",
     "text": [
      "周长: 37.70\n",
      "面积: 113.10\n"
     ]
    }
   ],
   "source": [
    "\"\"\"\n",
    "输入半径计算圆的周长和面积\n",
    "\n",
    "Version: 0.1\n",
    "Author: 骆昊\n",
    "\"\"\"\n",
    "\n",
    "import math\n",
    "\n",
    "radius = float(input('请输入圆的半径: '))\n",
    "perimeter = 2 * math.pi * radius\n",
    "area = math.pi * radius * radius\n",
    "print('周长: %.2f' % perimeter)\n",
    "print('面积: %.2f' % area)"
   ]
  },
  {
   "cell_type": "code",
   "execution_count": 3,
   "metadata": {},
   "outputs": [
    {
     "name": "stdin",
     "output_type": "stream",
     "text": [
      "请输入年份:  2088\n"
     ]
    },
    {
     "name": "stdout",
     "output_type": "stream",
     "text": [
      "True\n"
     ]
    }
   ],
   "source": [
    "\"\"\"\n",
    "输入年份 如果是闰年输出True 否则输出False\n",
    "\n",
    "Version: 0.1\n",
    "Author: 骆昊\n",
    "\"\"\"\n",
    "\n",
    "year = int(input('请输入年份: '))\n",
    "# 如果代码太长写成一行不便于阅读 可以使用\\或()折行\n",
    "is_leap = (year % 4 == 0 and year % 100 != 0 or\n",
    "           year % 400 == 0)\n",
    "print(is_leap)"
   ]
  },
  {
   "cell_type": "markdown",
   "metadata": {},
   "source": []
  }
 ],
 "metadata": {
  "kernelspec": {
   "display_name": "Python 3",
   "language": "python",
   "name": "python3"
  },
  "language_info": {
   "codemirror_mode": {
    "name": "ipython",
    "version": 3
   },
   "file_extension": ".py",
   "mimetype": "text/x-python",
   "name": "python",
   "nbconvert_exporter": "python",
   "pygments_lexer": "ipython3",
   "version": "3.7.3"
  }
 },
 "nbformat": 4,
 "nbformat_minor": 2
}
