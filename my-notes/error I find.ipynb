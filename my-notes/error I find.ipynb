{
 "cells": [
  {
   "cell_type": "markdown",
   "metadata": {},
   "source": [
    "比如，`abs()` 函数，就会返回传递给它的*值*的*绝对值*；`int()` 函数，会将传递给它的值的小数部分砍掉；`float()` 接到整数参数之后，会返回这个整数的浮点数形式："
   ]
  },
  {
   "cell_type": "markdown",
   "metadata": {},
   "source": [
    "出自Part.1.E.2.values-and-their-operators，值的绝对值的显示效果不对"
   ]
  },
  {
   "cell_type": "markdown",
   "metadata": {},
   "source": [
    "上面这一行报错信息是 `SyntaxError: EOL while scanning string literal`。\n",
    "    这是因为 `\\'` 表示的是单引号字符 `'`（Literal）—— 是可被输出到屏幕的 `'`，而不是用来标示字符串的那个 `'`\n",
    "    出自Part.1.E.5.strings\n",
    "  "
   ]
  },
  {
   "cell_type": "code",
   "execution_count": null,
   "metadata": {},
   "outputs": [],
   "source": [
    "set=(2,3)\n",
    "other=(3,4)\n",
    "set <= other && set != other"
   ]
  },
  {
   "cell_type": "markdown",
   "metadata": {},
   "source": [
    "3.B.1d的wiki链接可以再加一个反括号"
   ]
  },
  {
   "cell_type": "code",
   "execution_count": null,
   "metadata": {},
   "outputs": [],
   "source": [
    "a=305\n",
    "b=340\n",
    "while a<700:\n",
    "    a=a+34\n",
    "    b=b+34\n",
    "    print(a,b,end='\\n')"
   ]
  },
  {
   "cell_type": "code",
   "execution_count": 1,
   "metadata": {},
   "outputs": [],
   "source": [
    "a=()"
   ]
  },
  {
   "cell_type": "code",
   "execution_count": 2,
   "metadata": {},
   "outputs": [
    {
     "data": {
      "text/plain": [
       "tuple"
      ]
     },
     "execution_count": 2,
     "metadata": {},
     "output_type": "execute_result"
    }
   ],
   "source": [
    "type(a)"
   ]
  },
  {
   "cell_type": "code",
   "execution_count": null,
   "metadata": {},
   "outputs": [],
   "source": [
    "print(\"=======欢迎进入狗狗年龄对比系统========\")\n",
    "control = \"N\"\n",
    "while control==\"N\":\n",
    "    try:\n",
    "        age = int(input(\"请输入您家狗的年龄:\"))\n",
    "        #print(\" \")\n",
    "        age = float(age)\n",
    "        if age < 0:\n",
    "            print(\"您在逗我？\")\n",
    "        elif age == 1:\n",
    "            print(\"相当于人类14岁\")\n",
    "            #break\n",
    "        elif age == 2:\n",
    "            print(\"相当于人类22岁\")\n",
    "            #break\n",
    "        else:\n",
    "            human = 22 + (age - 2)*5\n",
    "            print(\"相当于人类：\",human)\n",
    "            #break\n",
    "    except ValueError:\n",
    "        print(\"输入不合法，请输入有效年龄\")\n",
    "    print(\"\")\n",
    "    control = input(\"退出(Y/N)？\")\n",
    "    print(\"\")\n",
    "###退出提示\n",
    "input(\"点击 enter 键退出\")"
   ]
  },
  {
   "cell_type": "code",
   "execution_count": null,
   "metadata": {},
   "outputs": [
    {
     "name": "stdin",
     "output_type": "stream",
     "text": [
      "输入一个数字  : 2\n"
     ]
    },
    {
     "name": "stdout",
     "output_type": "stream",
     "text": [
      "你输入的数字是:  2\n"
     ]
    },
    {
     "name": "stdin",
     "output_type": "stream",
     "text": [
      "输入一个数字  : 3\n"
     ]
    },
    {
     "name": "stdout",
     "output_type": "stream",
     "text": [
      "你输入的数字是:  3\n"
     ]
    },
    {
     "name": "stdin",
     "output_type": "stream",
     "text": [
      "输入一个数字  : 4\n"
     ]
    },
    {
     "name": "stdout",
     "output_type": "stream",
     "text": [
      "你输入的数字是:  4\n"
     ]
    },
    {
     "name": "stdin",
     "output_type": "stream",
     "text": [
      "输入一个数字  : 5\n"
     ]
    },
    {
     "name": "stdout",
     "output_type": "stream",
     "text": [
      "你输入的数字是:  5\n"
     ]
    }
   ],
   "source": [
    "from IPython.core.interactiveshell import InteractiveShell\n",
    "InteractiveShell.ast_node_interactivity = \"all\"\n",
    "var = 1\n",
    "while var == 1 :  # 表达式永远为 true\n",
    "   num = int(input(\"输入一个数字  :\"))\n",
    "   print (\"你输入的数字是: \", num)\n",
    " \n",
    "print (\"Good bye!\")"
   ]
  },
  {
   "cell_type": "code",
   "execution_count": 3,
   "metadata": {},
   "outputs": [
    {
     "name": "stdout",
     "output_type": "stream",
     "text": [
      "2 是质数\n",
      "3 是质数\n",
      "4 是质数\n",
      "5 是质数\n",
      "6 是质数\n",
      "7 是质数\n",
      "8 是质数\n",
      "9 是质数\n",
      "10 是质数\n",
      "11 是质数\n",
      "12 是质数\n",
      "13 是质数\n",
      "14 是质数\n",
      "15 是质数\n",
      "16 是质数\n",
      "17 是质数\n",
      "18 是质数\n",
      "19 是质数\n",
      "20 是质数\n",
      "21 是质数\n",
      "22 是质数\n",
      "23 是质数\n",
      "24 是质数\n",
      "25 是质数\n",
      "26 是质数\n",
      "27 是质数\n",
      "28 是质数\n",
      "29 是质数\n",
      "30 是质数\n",
      "31 是质数\n",
      "32 是质数\n",
      "33 是质数\n",
      "34 是质数\n",
      "35 是质数\n",
      "36 是质数\n",
      "37 是质数\n",
      "38 是质数\n",
      "39 是质数\n",
      "40 是质数\n",
      "41 是质数\n",
      "42 是质数\n",
      "43 是质数\n",
      "44 是质数\n",
      "45 是质数\n",
      "46 是质数\n",
      "47 是质数\n",
      "48 是质数\n",
      "49 是质数\n",
      "50 是质数\n",
      "51 是质数\n",
      "52 是质数\n",
      "53 是质数\n",
      "54 是质数\n",
      "55 是质数\n",
      "56 是质数\n",
      "57 是质数\n",
      "58 是质数\n",
      "59 是质数\n",
      "60 是质数\n",
      "61 是质数\n",
      "62 是质数\n",
      "63 是质数\n",
      "64 是质数\n",
      "65 是质数\n",
      "66 是质数\n",
      "67 是质数\n",
      "68 是质数\n",
      "69 是质数\n",
      "70 是质数\n",
      "71 是质数\n",
      "72 是质数\n",
      "73 是质数\n",
      "74 是质数\n",
      "75 是质数\n",
      "76 是质数\n",
      "77 是质数\n",
      "78 是质数\n",
      "79 是质数\n",
      "80 是质数\n",
      "81 是质数\n",
      "82 是质数\n",
      "83 是质数\n",
      "84 是质数\n",
      "85 是质数\n",
      "86 是质数\n",
      "87 是质数\n",
      "88 是质数\n",
      "89 是质数\n",
      "90 是质数\n",
      "91 是质数\n",
      "92 是质数\n",
      "93 是质数\n",
      "94 是质数\n",
      "95 是质数\n",
      "96 是质数\n",
      "97 是质数\n",
      "98 是质数\n",
      "99 是质数\n"
     ]
    }
   ],
   "source": [
    "for n in range(2,100):\n",
    "    if n == 2:\n",
    "        print(n,'是质数')\n",
    "        continue\n",
    "    elif n>2:\n",
    "        for x in range(2,n):\n",
    "            if n / x == 0:\n",
    "                break\n",
    "        else:\n",
    "            print(n,'是质数')"
   ]
  },
  {
   "cell_type": "code",
   "execution_count": 9,
   "metadata": {},
   "outputs": [
    {
     "name": "stdout",
     "output_type": "stream",
     "text": [
      "1\n",
      "0\n"
     ]
    }
   ],
   "source": [
    "for i in [1, 0]:\n",
    "    print(i+0)"
   ]
  },
  {
   "cell_type": "code",
   "execution_count": 10,
   "metadata": {},
   "outputs": [
    {
     "data": {
      "text/plain": [
       "[]"
      ]
     },
     "execution_count": 10,
     "metadata": {},
     "output_type": "execute_result"
    }
   ],
   "source": [
    "list(range(5,0))"
   ]
  },
  {
   "cell_type": "code",
   "execution_count": 11,
   "metadata": {},
   "outputs": [
    {
     "name": "stdout",
     "output_type": "stream",
     "text": [
      "1 2 3 4 "
     ]
    }
   ],
   "source": [
    "list=[1,2,3,4]\n",
    "it = iter(list)    # 创建迭代器对象\n",
    "for x in it:\n",
    "    print (x, end=\" \")"
   ]
  },
  {
   "cell_type": "code",
   "execution_count": 12,
   "metadata": {},
   "outputs": [],
   "source": [
    "def get():\n",
    "    m = 0\n",
    "    n = 2\n",
    "    l = ['s',1,3]\n",
    "    k = {1:1,2:2}\n",
    "    p = ('2','s','t')\n",
    "    while True:\n",
    "        m += 1\n",
    "        yield m\n",
    "        yield m ,n ,l ,k ,p"
   ]
  },
  {
   "cell_type": "code",
   "execution_count": 13,
   "metadata": {},
   "outputs": [
    {
     "name": "stdout",
     "output_type": "stream",
     "text": [
      "<generator object get at 0x000002888D252750>\n"
     ]
    }
   ],
   "source": [
    "it=get()\n",
    "print(it)"
   ]
  },
  {
   "cell_type": "code",
   "execution_count": 14,
   "metadata": {},
   "outputs": [
    {
     "name": "stdout",
     "output_type": "stream",
     "text": [
      "1\n"
     ]
    }
   ],
   "source": [
    "print(next(it))"
   ]
  },
  {
   "cell_type": "code",
   "execution_count": 15,
   "metadata": {},
   "outputs": [
    {
     "name": "stdout",
     "output_type": "stream",
     "text": [
      "(1, 2, ['s', 1, 3], {1: 1, 2: 2}, ('2', 's', 't'))\n"
     ]
    }
   ],
   "source": [
    "print(next(it))"
   ]
  },
  {
   "cell_type": "code",
   "execution_count": 16,
   "metadata": {},
   "outputs": [
    {
     "name": "stdout",
     "output_type": "stream",
     "text": [
      "2\n"
     ]
    }
   ],
   "source": [
    "print(next(it))"
   ]
  },
  {
   "cell_type": "code",
   "execution_count": 17,
   "metadata": {},
   "outputs": [
    {
     "name": "stdout",
     "output_type": "stream",
     "text": [
      "(2, 2, ['s', 1, 3], {1: 1, 2: 2}, ('2', 's', 't'))\n"
     ]
    }
   ],
   "source": [
    "print(next(it))"
   ]
  },
  {
   "cell_type": "code",
   "execution_count": 3,
   "metadata": {},
   "outputs": [
    {
     "name": "stdout",
     "output_type": "stream",
     "text": [
      "Hello ('Runoob', 'Google')\n"
     ]
    }
   ],
   "source": [
    "def greetPerson(*name):\n",
    "    print('Hello', name)\n",
    "  \n",
    "greetPerson('Runoob', 'Google')"
   ]
  },
  {
   "cell_type": "code",
   "execution_count": 39,
   "metadata": {},
   "outputs": [
    {
     "name": "stdout",
     "output_type": "stream",
     "text": [
      "1   1             1\n",
      "2   4             8\n",
      "3   9            27\n",
      "4   16           64\n",
      "5   25          125\n",
      "6   36          216\n",
      "7   49          343\n",
      "8   64          512\n",
      "9   81          729\n",
      "10  100         1000\n"
     ]
    }
   ],
   "source": [
    "from IPython.core.interactiveshell import InteractiveShell\n",
    "InteractiveShell.ast_node_interactivity = \"all\"\n",
    "for x in range(1, 11):\n",
    "    print(repr(x).rjust(1), repr(x*x).center(6), end=' ')\n",
    "    # 注意前一行 'end' 的使用\n",
    "    print(repr(x*x*x).rjust(10))"
   ]
  },
  {
   "cell_type": "code",
   "execution_count": 47,
   "metadata": {},
   "outputs": [
    {
     "name": "stdout",
     "output_type": "stream",
     "text": [
      "1      1       1\n",
      "2      4       8\n",
      "3      9       27\n",
      "4      16       64\n",
      "5      25       125\n",
      "6      36       216\n",
      "7      49       343\n",
      "8      64       512\n",
      "9      81       729\n",
      "10      100       1000\n"
     ]
    }
   ],
   "source": [
    "for x in range(1, 11):\n",
    "    print(f'{x}      {x*x}       {x*x*x}')"
   ]
  },
  {
   "cell_type": "code",
   "execution_count": 1,
   "metadata": {},
   "outputs": [
    {
     "data": {
      "text/plain": [
       "['In',\n",
       " 'Out',\n",
       " '_',\n",
       " '__',\n",
       " '___',\n",
       " '__builtin__',\n",
       " '__builtins__',\n",
       " '__doc__',\n",
       " '__loader__',\n",
       " '__name__',\n",
       " '__package__',\n",
       " '__spec__',\n",
       " '_dh',\n",
       " '_i',\n",
       " '_i1',\n",
       " '_ih',\n",
       " '_ii',\n",
       " '_iii',\n",
       " '_oh',\n",
       " 'exit',\n",
       " 'get_ipython',\n",
       " 'quit']"
      ]
     },
     "execution_count": 1,
     "metadata": {},
     "output_type": "execute_result"
    }
   ],
   "source": [
    "dir()"
   ]
  },
  {
   "cell_type": "code",
   "execution_count": 4,
   "metadata": {},
   "outputs": [
    {
     "data": {
      "text/plain": [
       "['__annotations__',\n",
       " '__call__',\n",
       " '__class__',\n",
       " '__closure__',\n",
       " '__code__',\n",
       " '__defaults__',\n",
       " '__delattr__',\n",
       " '__dict__',\n",
       " '__dir__',\n",
       " '__doc__',\n",
       " '__eq__',\n",
       " '__format__',\n",
       " '__ge__',\n",
       " '__get__',\n",
       " '__getattribute__',\n",
       " '__globals__',\n",
       " '__gt__',\n",
       " '__hash__',\n",
       " '__init__',\n",
       " '__init_subclass__',\n",
       " '__kwdefaults__',\n",
       " '__le__',\n",
       " '__lt__',\n",
       " '__module__',\n",
       " '__name__',\n",
       " '__ne__',\n",
       " '__new__',\n",
       " '__qualname__',\n",
       " '__reduce__',\n",
       " '__reduce_ex__',\n",
       " '__repr__',\n",
       " '__setattr__',\n",
       " '__sizeof__',\n",
       " '__str__',\n",
       " '__subclasshook__']"
      ]
     },
     "execution_count": 4,
     "metadata": {},
     "output_type": "execute_result"
    }
   ],
   "source": [
    "dir(greetPerson)"
   ]
  },
  {
   "cell_type": "code",
   "execution_count": 24,
   "metadata": {},
   "outputs": [
    {
     "data": {
      "text/plain": [
       "<attribute 'month' of 'datetime.date' objects>"
      ]
     },
     "execution_count": 24,
     "metadata": {},
     "output_type": "execute_result"
    }
   ],
   "source": [
    "import datetime\n",
    "a=datetime.date.year\n",
    "b=datetime.date.month\n",
    "b"
   ]
  },
  {
   "cell_type": "code",
   "execution_count": 1,
   "metadata": {},
   "outputs": [],
   "source": [
    "import re"
   ]
  },
  {
   "cell_type": "code",
   "execution_count": 2,
   "metadata": {},
   "outputs": [
    {
     "ename": "AttributeError",
     "evalue": "'function' object has no attribute 'span'",
     "output_type": "error",
     "traceback": [
      "\u001b[1;31m---------------------------------------------------------------------------\u001b[0m",
      "\u001b[1;31mAttributeError\u001b[0m                            Traceback (most recent call last)",
      "\u001b[1;32m<ipython-input-2-95675561f05e>\u001b[0m in \u001b[0;36m<module>\u001b[1;34m\u001b[0m\n\u001b[1;32m----> 1\u001b[1;33m \u001b[0mhelp\u001b[0m\u001b[1;33m(\u001b[0m\u001b[0mre\u001b[0m\u001b[1;33m.\u001b[0m\u001b[0msearch\u001b[0m\u001b[1;33m.\u001b[0m\u001b[0mspan\u001b[0m\u001b[1;33m)\u001b[0m\u001b[1;33m\u001b[0m\u001b[1;33m\u001b[0m\u001b[0m\n\u001b[0m",
      "\u001b[1;31mAttributeError\u001b[0m: 'function' object has no attribute 'span'"
     ]
    }
   ],
   "source": [
    "help(re.search.span)"
   ]
  },
  {
   "cell_type": "code",
   "execution_count": 4,
   "metadata": {},
   "outputs": [
    {
     "ename": "NameError",
     "evalue": "name 'span' is not defined",
     "output_type": "error",
     "traceback": [
      "\u001b[1;31m---------------------------------------------------------------------------\u001b[0m",
      "\u001b[1;31mNameError\u001b[0m                                 Traceback (most recent call last)",
      "\u001b[1;32m<ipython-input-4-96e49e936b82>\u001b[0m in \u001b[0;36m<module>\u001b[1;34m\u001b[0m\n\u001b[1;32m----> 1\u001b[1;33m \u001b[0mhelp\u001b[0m\u001b[1;33m(\u001b[0m\u001b[0mspan\u001b[0m\u001b[1;33m)\u001b[0m\u001b[1;33m\u001b[0m\u001b[1;33m\u001b[0m\u001b[0m\n\u001b[0m",
      "\u001b[1;31mNameError\u001b[0m: name 'span' is not defined"
     ]
    }
   ],
   "source": [
    "help(span)"
   ]
  },
  {
   "cell_type": "code",
   "execution_count": 6,
   "metadata": {},
   "outputs": [
    {
     "ename": "AttributeError",
     "evalue": "'function' object has no attribute 'span'",
     "output_type": "error",
     "traceback": [
      "\u001b[1;31m---------------------------------------------------------------------------\u001b[0m",
      "\u001b[1;31mAttributeError\u001b[0m                            Traceback (most recent call last)",
      "\u001b[1;32m<ipython-input-6-4952fbff7e6b>\u001b[0m in \u001b[0;36m<module>\u001b[1;34m\u001b[0m\n\u001b[1;32m----> 1\u001b[1;33m \u001b[0mhelp\u001b[0m\u001b[1;33m(\u001b[0m\u001b[0mre\u001b[0m\u001b[1;33m.\u001b[0m\u001b[0mmatch\u001b[0m\u001b[1;33m.\u001b[0m\u001b[0mspan\u001b[0m\u001b[1;33m)\u001b[0m\u001b[1;33m\u001b[0m\u001b[1;33m\u001b[0m\u001b[0m\n\u001b[0m",
      "\u001b[1;31mAttributeError\u001b[0m: 'function' object has no attribute 'span'"
     ]
    }
   ],
   "source": [
    "help(re.match.span)"
   ]
  },
  {
   "cell_type": "code",
   "execution_count": null,
   "metadata": {},
   "outputs": [],
   "source": []
  }
 ],
 "metadata": {
  "kernelspec": {
   "display_name": "Python 3",
   "language": "python",
   "name": "python3"
  },
  "language_info": {
   "codemirror_mode": {
    "name": "ipython",
    "version": 3
   },
   "file_extension": ".py",
   "mimetype": "text/x-python",
   "name": "python",
   "nbconvert_exporter": "python",
   "pygments_lexer": "ipython3",
   "version": "3.7.3"
  }
 },
 "nbformat": 4,
 "nbformat_minor": 2
}
